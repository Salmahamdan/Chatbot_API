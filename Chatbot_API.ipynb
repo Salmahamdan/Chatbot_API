{
 "cells": [
  {
   "cell_type": "code",
   "execution_count": 1,
   "metadata": {
    "id": "N4h2_F9KxTC1"
   },
   "outputs": [
    {
     "name": "stdout",
     "output_type": "stream",
     "text": [
      "Collecting openai==0.28Note: you may need to restart the kernel to use updated packages.\n",
      "  Downloading openai-0.28.0-py3-none-any.whl (76 kB)\n",
      "Collecting aiohttp\n",
      "  Downloading aiohttp-3.9.3-cp39-cp39-win_amd64.whl (366 kB)\n",
      "Requirement already satisfied: tqdm in c:\\users\\dell\\anaconda3\\an\\lib\\site-packages (from openai==0.28) (4.66.1)\n",
      "Requirement already satisfied: requests>=2.20 in c:\\users\\dell\\anaconda3\\an\\lib\\site-packages (from openai==0.28) (2.26.0)\n",
      "Requirement already satisfied: charset-normalizer~=2.0.0 in c:\\users\\dell\\anaconda3\\an\\lib\\site-packages (from requests>=2.20->openai==0.28) (2.0.4)\n",
      "Requirement already satisfied: certifi>=2017.4.17 in c:\\users\\dell\\anaconda3\\an\\lib\\site-packages (from requests>=2.20->openai==0.28) (2021.10.8)\n",
      "Requirement already satisfied: idna<4,>=2.5 in c:\\users\\dell\\anaconda3\\an\\lib\\site-packages (from requests>=2.20->openai==0.28) (3.2)\n",
      "Requirement already satisfied: urllib3<1.27,>=1.21.1 in c:\\users\\dell\\anaconda3\\an\\lib\\site-packages (from requests>=2.20->openai==0.28) (1.26.7)\n",
      "Collecting yarl<2.0,>=1.0\n",
      "  Downloading yarl-1.9.4-cp39-cp39-win_amd64.whl (76 kB)\n",
      "\n",
      "Collecting async-timeout<5.0,>=4.0\n"
     ]
    },
    {
     "name": "stderr",
     "output_type": "stream",
     "text": [
      "WARNING: Ignoring invalid distribution -rotobuf (c:\\users\\dell\\anaconda3\\an\\lib\\site-packages)\n",
      "WARNING: Ignoring invalid distribution -rotobuf (c:\\users\\dell\\anaconda3\\an\\lib\\site-packages)\n",
      "WARNING: Ignoring invalid distribution -rotobuf (c:\\users\\dell\\anaconda3\\an\\lib\\site-packages)\n",
      "    WARNING: Ignoring invalid distribution -rotobuf (c:\\users\\dell\\anaconda3\\an\\lib\\site-packages)\n",
      "WARNING: Ignoring invalid distribution -rotobuf (c:\\users\\dell\\anaconda3\\an\\lib\\site-packages)\n",
      "WARNING: Ignoring invalid distribution -rotobuf (c:\\users\\dell\\anaconda3\\an\\lib\\site-packages)\n",
      "WARNING: Ignoring invalid distribution -rotobuf (c:\\users\\dell\\anaconda3\\an\\lib\\site-packages)\n",
      "WARNING: Ignoring invalid distribution -rotobuf (c:\\users\\dell\\anaconda3\\an\\lib\\site-packages)\n",
      "WARNING: Ignoring invalid distribution -rotobuf (c:\\users\\dell\\anaconda3\\an\\lib\\site-packages)\n",
      "WARNING: Ignoring invalid distribution -rotobuf (c:\\users\\dell\\anaconda3\\an\\lib\\site-packages)\n",
      "WARNING: Ignoring invalid distribution -rotobuf (c:\\users\\dell\\anaconda3\\an\\lib\\site-packages)\n",
      "WARNING: Ignoring invalid distribution -rotobuf (c:\\users\\dell\\anaconda3\\an\\lib\\site-packages)\n",
      "WARNING: Ignoring invalid distribution -rotobuf (c:\\users\\dell\\anaconda3\\an\\lib\\site-packages)\n",
      "WARNING: Ignoring invalid distribution -rotobuf (c:\\users\\dell\\anaconda3\\an\\lib\\site-packages)\n"
     ]
    },
    {
     "name": "stdout",
     "output_type": "stream",
     "text": [
      "  Downloading async_timeout-4.0.3-py3-none-any.whl (5.7 kB)\n",
      "Collecting frozenlist>=1.1.1\n",
      "  Downloading frozenlist-1.4.1-cp39-cp39-win_amd64.whl (50 kB)\n",
      "Collecting aiosignal>=1.1.2\n",
      "  Downloading aiosignal-1.3.1-py3-none-any.whl (7.6 kB)\n",
      "Requirement already satisfied: attrs>=17.3.0 in c:\\users\\dell\\anaconda3\\an\\lib\\site-packages (from aiohttp->openai==0.28) (21.2.0)\n",
      "Collecting multidict<7.0,>=4.5\n",
      "  Downloading multidict-6.0.5-cp39-cp39-win_amd64.whl (28 kB)\n",
      "Requirement already satisfied: colorama in c:\\users\\dell\\anaconda3\\an\\lib\\site-packages (from tqdm->openai==0.28) (0.4.4)\n",
      "Installing collected packages: multidict, frozenlist, yarl, async-timeout, aiosignal, aiohttp, openai\n",
      "  Attempting uninstall: openai\n",
      "    Found existing installation: openai 1.3.8\n",
      "    Uninstalling openai-1.3.8:\n",
      "      Successfully uninstalled openai-1.3.8\n",
      "Successfully installed aiohttp-3.9.3 aiosignal-1.3.1 async-timeout-4.0.3 frozenlist-1.4.1 multidict-6.0.5 openai-0.28.0 yarl-1.9.4\n"
     ]
    }
   ],
   "source": [
    "pip install openai==0.28"
   ]
  },
  {
   "cell_type": "code",
   "execution_count": 2,
   "metadata": {
    "id": "PewlXARfT2-A"
   },
   "outputs": [],
   "source": [
    "import openai"
   ]
  },
  {
   "cell_type": "code",
   "execution_count": 3,
   "metadata": {
    "id": "FpEr8CXMyLAa"
   },
   "outputs": [],
   "source": [
    "#OpenAI API key necessary to authenticate and access the OpenAI services.\n",
    "openai.api_key = '*******************************************************'"
   ]
  },
  {
   "cell_type": "code",
   "execution_count": 4,
   "metadata": {
    "id": "lbLfxNrPOWNW"
   },
   "outputs": [],
   "source": [
    "#1.The get_completion function takes two parameters The prompt represents the user's message or input,\n",
    "#and the model specifies the OpenAI model to use for generating the completion. The default model is set to \"gpt-3.5-turbo\".\n",
    "#2.messages list is created. It contains a single dictionary element representing the user's message.\n",
    "#The dictionary has two key-value pairs: \"role\" with the value \"user\"(specifying content massage coming from user\") and \"content\" with the value of the prompt (hold actual content )\"\n",
    "#3.ChatCompletion.create() method is called to generate a completion based on the given messages.\n",
    "#It sends the user's message to the specified OpenAI model and receives a response.\n",
    "#The model parameter determines which model to use, and the messages parameter contains the conversation history and temperature=0(return the best prob of this word)\n",
    "#4.response.choices[0] retrieves the first choice from the response, and message[\"content\"] extracts the content of the assistant's message."
   ]
  },
  {
   "cell_type": "code",
   "execution_count": 5,
   "metadata": {
    "id": "LyJKIUMdvrqK"
   },
   "outputs": [],
   "source": [
    "def get_completion(prompt, model=\"gpt-3.5-turbo\"):\n",
    "    messages = [{\"role\": \"user\", \"content\": prompt}]\n",
    "    response = openai.ChatCompletion.create(model=model, messages=messages, temperature=0)\n",
    "    return response.choices[0].message[\"content\"]"
   ]
  },
  {
   "cell_type": "code",
   "execution_count": 6,
   "metadata": {
    "id": "0mWJyG4KPVQ_"
   },
   "outputs": [],
   "source": [
    "#1.This loop allows the user to have interactive conversations with the OpenAI chatbot.\n",
    "#2.It repeatedly prompts the user to enter a message (T)  by calling the get_completion() function with the user's message.\n",
    "#3.If the user enters 'q', the loop breaks, otherwise, the completion generated by the chatbot is printed to the console"
   ]
  },
  {
   "cell_type": "code",
   "execution_count": 7,
   "metadata": {
    "id": "knvB8ZMUwk0P"
   },
   "outputs": [
    {
     "name": "stdout",
     "output_type": "stream",
     "text": [
      "GPT:what is AI?\n",
      "AI, or Artificial Intelligence, refers to the simulation of human intelligence in machines that are programmed to think and learn like humans. It involves the development of computer systems capable of performing tasks that typically require human intelligence, such as speech recognition, decision-making, problem-solving, and language translation. AI can be categorized into two types: Narrow AI, which is designed for specific tasks, and General AI, which possesses the ability to understand, learn, and apply knowledge across various domains.\n",
      "GPT:what is DL\n",
      "DL stands for Deep Learning. It is a subfield of machine learning that focuses on the development and application of artificial neural networks, particularly deep neural networks. Deep learning algorithms are designed to automatically learn and extract high-level features and patterns from large amounts of data, enabling them to make predictions or decisions without explicit programming. DL has been successfully applied to various domains, including computer vision, natural language processing, speech recognition, and robotics.\n",
      "GPT:what is Ml\n",
      "ML stands for Machine Learning. It is a subset of artificial intelligence (AI) that focuses on the development of algorithms and models that allow computers to learn and make predictions or decisions without being explicitly programmed. ML algorithms learn from data, identify patterns, and make predictions or take actions based on the patterns they have learned. It is widely used in various fields such as image recognition, natural language processing, recommendation systems, and autonomous vehicles.\n",
      "GPT:q\n"
     ]
    }
   ],
   "source": [
    "while True :\n",
    "  T = input('GPT:')\n",
    "  if T =='q' : break\n",
    "  print(get_completion(T))"
   ]
  },
  {
   "cell_type": "code",
   "execution_count": null,
   "metadata": {
    "id": "FD7-zpAHy574"
   },
   "outputs": [],
   "source": []
  }
 ],
 "metadata": {
  "accelerator": "GPU",
  "colab": {
   "authorship_tag": "ABX9TyNHRSjhERcM8XnBdceeNwag",
   "gpuType": "T4",
   "private_outputs": true,
   "provenance": []
  },
  "kernelspec": {
   "display_name": "Python 3 (ipykernel)",
   "language": "python",
   "name": "python3"
  },
  "language_info": {
   "codemirror_mode": {
    "name": "ipython",
    "version": 3
   },
   "file_extension": ".py",
   "mimetype": "text/x-python",
   "name": "python",
   "nbconvert_exporter": "python",
   "pygments_lexer": "ipython3",
   "version": "3.9.7"
  }
 },
 "nbformat": 4,
 "nbformat_minor": 1
}
